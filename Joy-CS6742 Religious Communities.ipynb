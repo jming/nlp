{
 "cells": [
  {
   "cell_type": "code",
   "execution_count": 1,
   "metadata": {
    "collapsed": true,
    "jupyter": {
     "outputs_hidden": true
    },
    "tags": []
   },
   "outputs": [
    {
     "name": "stdout",
     "output_type": "stream",
     "text": [
      "Collecting git+https://github.com/CornellNLP/Cornell-Conversational-Analysis-Toolkit.git\n",
      "  Cloning https://github.com/CornellNLP/Cornell-Conversational-Analysis-Toolkit.git to c:\\users\\jonat\\appdata\\local\\temp\\pip-req-build-ffhip93l\n",
      "  Resolved https://github.com/CornellNLP/Cornell-Conversational-Analysis-Toolkit.git to commit 3b0e4a14fdb12e28f29de7609f4b043eaaf3afcc\n",
      "  Installing build dependencies: started\n",
      "  Installing build dependencies: finished with status 'done'\n",
      "  Getting requirements to build wheel: started\n",
      "  Getting requirements to build wheel: finished with status 'done'\n",
      "  Preparing metadata (pyproject.toml): started\n",
      "  Preparing metadata (pyproject.toml): finished with status 'done'\n",
      "Requirement already satisfied: clean-text>=0.6.0 in c:\\users\\jonat\\appdata\\roaming\\python\\python37\\site-packages (from convokit==2.5.3) (0.6.0)\n",
      "Requirement already satisfied: dill>=0.2.9 in c:\\users\\jonat\\appdata\\roaming\\python\\python37\\site-packages (from convokit==2.5.3) (0.3.6)\n",
      "Requirement already satisfied: nltk>=3.4 in c:\\programdata\\anaconda3\\lib\\site-packages (from convokit==2.5.3) (3.4.5)\n",
      "Requirement already satisfied: dnspython>=1.16.0 in c:\\users\\jonat\\appdata\\roaming\\python\\python37\\site-packages (from convokit==2.5.3) (2.2.1)\n",
      "Requirement already satisfied: msgpack-numpy>=0.4.3.2 in c:\\users\\jonat\\appdata\\roaming\\python\\python37\\site-packages (from convokit==2.5.3) (0.4.8)\n",
      "Requirement already satisfied: scikit-learn>=0.20.0 in c:\\programdata\\anaconda3\\lib\\site-packages (from convokit==2.5.3) (0.22.1)\n",
      "Requirement already satisfied: tqdm>=4.64.0 in c:\\users\\jonat\\appdata\\roaming\\python\\python37\\site-packages (from convokit==2.5.3) (4.64.1)\n",
      "Requirement already satisfied: spacy>=2.3.5 in c:\\users\\jonat\\appdata\\roaming\\python\\python37\\site-packages (from convokit==2.5.3) (3.4.3)\n",
      "Requirement already satisfied: joblib>=0.13.2 in c:\\programdata\\anaconda3\\lib\\site-packages (from convokit==2.5.3) (0.14.1)\n",
      "Requirement already satisfied: pyyaml>=5.4.1 in c:\\users\\jonat\\appdata\\roaming\\python\\python37\\site-packages (from convokit==2.5.3) (6.0)\n",
      "Requirement already satisfied: scipy>=1.1.0 in c:\\programdata\\anaconda3\\lib\\site-packages (from convokit==2.5.3) (1.4.1)\n",
      "Requirement already satisfied: matplotlib>=3.0.0 in c:\\programdata\\anaconda3\\lib\\site-packages (from convokit==2.5.3) (3.1.3)\n",
      "Requirement already satisfied: unidecode>=1.1.1 in c:\\users\\jonat\\appdata\\roaming\\python\\python37\\site-packages (from convokit==2.5.3) (1.3.6)\n",
      "Requirement already satisfied: pymongo>=4.0 in c:\\users\\jonat\\appdata\\roaming\\python\\python37\\site-packages (from convokit==2.5.3) (4.3.2)\n",
      "Requirement already satisfied: pandas>=0.23.4 in c:\\programdata\\anaconda3\\lib\\site-packages (from convokit==2.5.3) (1.0.1)\n",
      "Requirement already satisfied: emoji<2.0.0,>=1.0.0 in c:\\users\\jonat\\appdata\\roaming\\python\\python37\\site-packages (from clean-text>=0.6.0->convokit==2.5.3) (1.7.0)\n",
      "Requirement already satisfied: ftfy<7.0,>=6.0 in c:\\users\\jonat\\appdata\\roaming\\python\\python37\\site-packages (from clean-text>=0.6.0->convokit==2.5.3) (6.1.1)\n",
      "Requirement already satisfied: python-dateutil>=2.1 in c:\\programdata\\anaconda3\\lib\\site-packages (from matplotlib>=3.0.0->convokit==2.5.3) (2.8.2)\n",
      "Requirement already satisfied: pyparsing!=2.0.4,!=2.1.2,!=2.1.6,>=2.0.1 in c:\\programdata\\anaconda3\\lib\\site-packages (from matplotlib>=3.0.0->convokit==2.5.3) (2.4.6)\n",
      "Requirement already satisfied: cycler>=0.10 in c:\\programdata\\anaconda3\\lib\\site-packages (from matplotlib>=3.0.0->convokit==2.5.3) (0.10.0)\n",
      "Requirement already satisfied: numpy>=1.11 in c:\\programdata\\anaconda3\\lib\\site-packages (from matplotlib>=3.0.0->convokit==2.5.3) (1.21.6)\n",
      "Requirement already satisfied: kiwisolver>=1.0.1 in c:\\programdata\\anaconda3\\lib\\site-packages (from matplotlib>=3.0.0->convokit==2.5.3) (1.1.0)\n",
      "Requirement already satisfied: msgpack>=0.5.2 in c:\\programdata\\anaconda3\\lib\\site-packages (from msgpack-numpy>=0.4.3.2->convokit==2.5.3) (0.6.1)\n",
      "Requirement already satisfied: six in c:\\programdata\\anaconda3\\lib\\site-packages (from nltk>=3.4->convokit==2.5.3) (1.14.0)\n",
      "Requirement already satisfied: pytz>=2017.2 in c:\\programdata\\anaconda3\\lib\\site-packages (from pandas>=0.23.4->convokit==2.5.3) (2019.3)\n",
      "Requirement already satisfied: jinja2 in c:\\programdata\\anaconda3\\lib\\site-packages (from spacy>=2.3.5->convokit==2.5.3) (3.1.2)\n",
      "Requirement already satisfied: thinc<8.2.0,>=8.1.0 in c:\\users\\jonat\\appdata\\roaming\\python\\python37\\site-packages (from spacy>=2.3.5->convokit==2.5.3) (8.1.5)\n",
      "Requirement already satisfied: cymem<2.1.0,>=2.0.2 in c:\\users\\jonat\\appdata\\roaming\\python\\python37\\site-packages (from spacy>=2.3.5->convokit==2.5.3) (2.0.7)\n",
      "Requirement already satisfied: wasabi<1.1.0,>=0.9.1 in c:\\users\\jonat\\appdata\\roaming\\python\\python37\\site-packages (from spacy>=2.3.5->convokit==2.5.3) (0.10.1)\n",
      "Requirement already satisfied: packaging>=20.0 in c:\\programdata\\anaconda3\\lib\\site-packages (from spacy>=2.3.5->convokit==2.5.3) (20.1)\n",
      "Requirement already satisfied: typing-extensions<4.2.0,>=3.7.4 in c:\\users\\jonat\\appdata\\roaming\\python\\python37\\site-packages (from spacy>=2.3.5->convokit==2.5.3) (4.1.1)\n",
      "Requirement already satisfied: pathy>=0.3.5 in c:\\users\\jonat\\appdata\\roaming\\python\\python37\\site-packages (from spacy>=2.3.5->convokit==2.5.3) (0.6.2)\n",
      "Requirement already satisfied: requests<3.0.0,>=2.13.0 in c:\\programdata\\anaconda3\\lib\\site-packages (from spacy>=2.3.5->convokit==2.5.3) (2.22.0)\n",
      "Requirement already satisfied: spacy-legacy<3.1.0,>=3.0.10 in c:\\users\\jonat\\appdata\\roaming\\python\\python37\\site-packages (from spacy>=2.3.5->convokit==2.5.3) (3.0.10)\n",
      "Requirement already satisfied: srsly<3.0.0,>=2.4.3 in c:\\users\\jonat\\appdata\\roaming\\python\\python37\\site-packages (from spacy>=2.3.5->convokit==2.5.3) (2.4.5)\n",
      "Requirement already satisfied: typer<0.8.0,>=0.3.0 in c:\\users\\jonat\\appdata\\roaming\\python\\python37\\site-packages (from spacy>=2.3.5->convokit==2.5.3) (0.7.0)\n",
      "Requirement already satisfied: preshed<3.1.0,>=3.0.2 in c:\\users\\jonat\\appdata\\roaming\\python\\python37\\site-packages (from spacy>=2.3.5->convokit==2.5.3) (3.0.8)\n",
      "Requirement already satisfied: catalogue<2.1.0,>=2.0.6 in c:\\users\\jonat\\appdata\\roaming\\python\\python37\\site-packages (from spacy>=2.3.5->convokit==2.5.3) (2.0.8)\n",
      "Requirement already satisfied: langcodes<4.0.0,>=3.2.0 in c:\\users\\jonat\\appdata\\roaming\\python\\python37\\site-packages (from spacy>=2.3.5->convokit==2.5.3) (3.3.0)\n",
      "Requirement already satisfied: pydantic!=1.8,!=1.8.1,<1.11.0,>=1.7.4 in c:\\users\\jonat\\appdata\\roaming\\python\\python37\\site-packages (from spacy>=2.3.5->convokit==2.5.3) (1.10.2)\n",
      "Requirement already satisfied: murmurhash<1.1.0,>=0.28.0 in c:\\users\\jonat\\appdata\\roaming\\python\\python37\\site-packages (from spacy>=2.3.5->convokit==2.5.3) (1.0.9)\n",
      "Requirement already satisfied: spacy-loggers<2.0.0,>=1.0.0 in c:\\users\\jonat\\appdata\\roaming\\python\\python37\\site-packages (from spacy>=2.3.5->convokit==2.5.3) (1.0.3)\n",
      "Requirement already satisfied: setuptools in c:\\programdata\\anaconda3\\lib\\site-packages (from spacy>=2.3.5->convokit==2.5.3) (50.3.2)\n",
      "Requirement already satisfied: colorama in c:\\programdata\\anaconda3\\lib\\site-packages (from tqdm>=4.64.0->convokit==2.5.3) (0.4.3)\n",
      "Requirement already satisfied: zipp>=0.5 in c:\\programdata\\anaconda3\\lib\\site-packages (from catalogue<2.1.0,>=2.0.6->spacy>=2.3.5->convokit==2.5.3) (2.2.0)\n",
      "Requirement already satisfied: wcwidth>=0.2.5 in c:\\users\\jonat\\appdata\\roaming\\python\\python37\\site-packages (from ftfy<7.0,>=6.0->clean-text>=0.6.0->convokit==2.5.3) (0.2.5)\n",
      "Requirement already satisfied: smart-open<6.0.0,>=5.2.1 in c:\\users\\jonat\\appdata\\roaming\\python\\python37\\site-packages (from pathy>=0.3.5->spacy>=2.3.5->convokit==2.5.3) (5.2.1)\n",
      "Requirement already satisfied: urllib3!=1.25.0,!=1.25.1,<1.26,>=1.21.1 in c:\\programdata\\anaconda3\\lib\\site-packages (from requests<3.0.0,>=2.13.0->spacy>=2.3.5->convokit==2.5.3) (1.25.8)\n",
      "Requirement already satisfied: certifi>=2017.4.17 in c:\\programdata\\anaconda3\\lib\\site-packages (from requests<3.0.0,>=2.13.0->spacy>=2.3.5->convokit==2.5.3) (2019.11.28)\n",
      "Requirement already satisfied: idna<2.9,>=2.5 in c:\\programdata\\anaconda3\\lib\\site-packages (from requests<3.0.0,>=2.13.0->spacy>=2.3.5->convokit==2.5.3) (2.8)\n",
      "Requirement already satisfied: chardet<3.1.0,>=3.0.2 in c:\\programdata\\anaconda3\\lib\\site-packages (from requests<3.0.0,>=2.13.0->spacy>=2.3.5->convokit==2.5.3) (3.0.4)\n",
      "Requirement already satisfied: blis<0.8.0,>=0.7.8 in c:\\users\\jonat\\appdata\\roaming\\python\\python37\\site-packages (from thinc<8.2.0,>=8.1.0->spacy>=2.3.5->convokit==2.5.3) (0.7.9)\n",
      "Requirement already satisfied: confection<1.0.0,>=0.0.1 in c:\\users\\jonat\\appdata\\roaming\\python\\python37\\site-packages (from thinc<8.2.0,>=8.1.0->spacy>=2.3.5->convokit==2.5.3) (0.0.3)\n",
      "Requirement already satisfied: click<9.0.0,>=7.1.1 in c:\\users\\jonat\\appdata\\roaming\\python\\python37\\site-packages (from typer<0.8.0,>=0.3.0->spacy>=2.3.5->convokit==2.5.3) (8.1.3)\n",
      "Requirement already satisfied: MarkupSafe>=2.0 in c:\\programdata\\anaconda3\\lib\\site-packages (from jinja2->spacy>=2.3.5->convokit==2.5.3) (2.1.1)\n",
      "Requirement already satisfied: importlib-metadata in c:\\programdata\\anaconda3\\lib\\site-packages (from click<9.0.0,>=7.1.1->typer<0.8.0,>=0.3.0->spacy>=2.3.5->convokit==2.5.3) (5.0.0)\n"
     ]
    },
    {
     "name": "stderr",
     "output_type": "stream",
     "text": [
      "Keyring is skipped due to an exception: 'keyring.backends'\n",
      "  Running command git clone --filter=blob:none --quiet https://github.com/CornellNLP/Cornell-Conversational-Analysis-Toolkit.git 'C:\\Users\\jonat\\AppData\\Local\\Temp\\pip-req-build-ffhip93l'\n"
     ]
    }
   ],
   "source": [
    "!pip install git+https://github.com/CornellNLP/Cornell-Conversational-Analysis-Toolkit.git --user --upgrade"
   ]
  },
  {
   "cell_type": "code",
   "execution_count": 3,
   "metadata": {},
   "outputs": [],
   "source": [
    "from convokit import Corpus, download"
   ]
  },
  {
   "cell_type": "code",
   "execution_count": 5,
   "metadata": {},
   "outputs": [],
   "source": [
    "base_subreddit = 'Christianity'"
   ]
  },
  {
   "cell_type": "code",
   "execution_count": 6,
   "metadata": {},
   "outputs": [],
   "source": [
    "# subreddits = ['exchristian', 'TrueChristian', 'OpenChristian', 'RadicalChristianity', 'Catholicism', 'Judaism', 'Buddhism', 'OrthodoxChristianity', 'Reformed']\n",
    "# subreddits = ['exchristian']\n",
    "subreddits = ['TrueChristian', 'OpenChristian']"
   ]
  },
  {
   "cell_type": "code",
   "execution_count": 7,
   "metadata": {},
   "outputs": [],
   "source": [
    "corpuses = {}"
   ]
  },
  {
   "cell_type": "code",
   "execution_count": 9,
   "metadata": {},
   "outputs": [
    {
     "name": "stdout",
     "output_type": "stream",
     "text": [
      "1 Downloading TrueChristian\n",
      "Number of Speakers: 22002\n",
      "Number of Utterances: 580305\n",
      "Number of Conversations: 30415\n",
      "None\n",
      "1 Downloading OpenChristian\n",
      "Number of Speakers: 4876\n",
      "Number of Utterances: 41895\n",
      "Number of Conversations: 7544\n",
      "None\n",
      "1 Downloading Christianity\n",
      "Number of Speakers: 194228\n",
      "Number of Utterances: 7327402\n",
      "Number of Conversations: 325059\n",
      "None\n"
     ]
    }
   ],
   "source": [
    "for subreddit in subreddits + [base_subreddit]:\n",
    "    print('1 Downloading', subreddit)\n",
    "    corpuses[subreddit] = Corpus.reconnect_to_db(f'subreddit-{subreddit}')\n",
    "    # if subreddit not in corpuses:\n",
    "        # corpuses[subreddit] = Corpus(filename=download('subreddit-'+subreddit, use_local=True), storage_type='db')\n",
    "    print(corpuses[subreddit].print_summary_stats())"
   ]
  },
  {
   "cell_type": "code",
   "execution_count": 10,
   "metadata": {},
   "outputs": [],
   "source": [
    "utts_dfs = {}"
   ]
  },
  {
   "cell_type": "code",
   "execution_count": null,
   "metadata": {},
   "outputs": [
    {
     "name": "stdout",
     "output_type": "stream",
     "text": [
      "2 Getting dataframes TrueChristian\n",
      "2 Getting dataframes OpenChristian\n",
      "2 Getting dataframes Christianity\n"
     ]
    }
   ],
   "source": [
    "for subreddit in subreddits + [base_subreddit]:\n",
    "    print('2 Getting dataframes', subreddit)\n",
    "    corpus = corpuses[subreddit]\n",
    "    if subreddit not in utts_dfs:\n",
    "        utts_dfs[subreddit] = corpus.get_utterances_dataframe()"
   ]
  },
  {
   "cell_type": "code",
   "execution_count": null,
   "metadata": {},
   "outputs": [],
   "source": []
  },
  {
   "cell_type": "code",
   "execution_count": null,
   "metadata": {},
   "outputs": [],
   "source": [
    "for subreddit in subreddits + [base_subreddit]:\n",
    "    print('3 Calculating lengths', subreddit)\n",
    "    utts_dfs[subreddit]['text_len'] = utts_dfs[subreddit]['text'].apply(lambda t: len(t.split()))"
   ]
  },
  {
   "cell_type": "code",
   "execution_count": null,
   "metadata": {},
   "outputs": [],
   "source": [
    "for subreddit in subreddits + [base_subreddit]:\n",
    "    print('4 Removing empty', subreddit)\n",
    "    df = utts_dfs[subreddit]\n",
    "    utts_dfs[subreddit] = df[df['text_len'] > 5]\n",
    "    print(utts_dfs[subreddit].describe())"
   ]
  },
  {
   "cell_type": "code",
   "execution_count": null,
   "metadata": {},
   "outputs": [],
   "source": [
    "speakers = {}"
   ]
  },
  {
   "cell_type": "code",
   "execution_count": null,
   "metadata": {},
   "outputs": [],
   "source": [
    "for subreddit in subreddits + [base_subreddit]:\n",
    "    print('5 Getting speakers', subreddit)\n",
    "    speakers[subreddit] = utts_dfs[subreddit]['speaker'].unique()"
   ]
  },
  {
   "cell_type": "code",
   "execution_count": null,
   "metadata": {},
   "outputs": [],
   "source": [
    "common_speakers = {}"
   ]
  },
  {
   "cell_type": "code",
   "execution_count": null,
   "metadata": {},
   "outputs": [],
   "source": [
    "for subreddit in subreddits:\n",
    "    print('6 Getting common speakers', subreddit)\n",
    "    speakers = set(speakers[base_subreddit]).intersection(speakers[subreddit])\n",
    "    speakers.remove('[deleted]')\n",
    "    common_speakers[subreddit] = list(speakers)\n",
    "    print(len(speakers))"
   ]
  },
  {
   "cell_type": "code",
   "execution_count": null,
   "metadata": {},
   "outputs": [],
   "source": [
    "common_speakers_utts = {}"
   ]
  },
  {
   "cell_type": "code",
   "execution_count": null,
   "metadata": {},
   "outputs": [],
   "source": [
    "for subreddit in subreddits:\n",
    "    print('7 Getting utts from common speakers', subreddit)\n",
    "    df = utts_dfs[base_subreddit]\n",
    "    common_speakers_utts[subreddit] = df[df['speaker'].isin(common_speakers[subreddit])]"
   ]
  },
  {
   "cell_type": "code",
   "execution_count": null,
   "metadata": {},
   "outputs": [],
   "source": [
    "first_utts = {}"
   ]
  },
  {
   "cell_type": "code",
   "execution_count": null,
   "metadata": {},
   "outputs": [],
   "source": [
    "for subreddit in subreddits + [base_subreddit]:\n",
    "    print('8 Getting first utt time', subreddit)\n",
    "    df = utts_dfs[subreddit]\n",
    "    first_utts[subreddit] = df.groupby(['speaker'])['timestamp'].min()"
   ]
  },
  {
   "cell_type": "code",
   "execution_count": null,
   "metadata": {},
   "outputs": [],
   "source": [
    "for subreddit in subreddits:\n",
    "    print('9 Getting is before', subreddit)\n",
    "    df = common_speakers_utts[subreddit]\n",
    "    df['is_before'] = df.apply(lambda utt: utt['timestamp'] < first_utts[subreddit][utt['speaker']], axis=1)\n",
    "    common_speakers_utts[subreddit] = df"
   ]
  },
  {
   "cell_type": "code",
   "execution_count": null,
   "metadata": {},
   "outputs": [],
   "source": [
    "import pandas as pd"
   ]
  },
  {
   "cell_type": "code",
   "execution_count": null,
   "metadata": {
    "tags": []
   },
   "outputs": [],
   "source": [
    "for subreddit in subreddits:\n",
    "    print('10 Ordering', subreddit)\n",
    "    df = common_speakers_utts[subreddit]\n",
    "    \n",
    "    before = df[df['is_before'] == True]\n",
    "    gb = before.sort_values(['speaker', 'timestamp'], ascending=False).groupby(['speaker'])\n",
    "    before['order'] = -1 * (gb.cumcount() + 1)\n",
    "    \n",
    "    after = df[df['is_before'] == False]\n",
    "    ga = after.sort_values(['speaker', 'timestamp']).groupby(['speaker'])\n",
    "    after['order'] = ga.cumcount() + 1\n",
    "    \n",
    "    common_speakers_utts[subreddit] = pd.concat([before, after])"
   ]
  },
  {
   "cell_type": "code",
   "execution_count": null,
   "metadata": {},
   "outputs": [],
   "source": [
    "k = 50"
   ]
  },
  {
   "cell_type": "code",
   "execution_count": null,
   "metadata": {},
   "outputs": [],
   "source": [
    "import numpy as np"
   ]
  },
  {
   "cell_type": "code",
   "execution_count": null,
   "metadata": {},
   "outputs": [],
   "source": [
    "import scipy.stats as st\n",
    "def conf_interval(data):\n",
    "    interval = st.norm.interval(alpha=0.95, loc=np.mean(data), scale=st.sem(data))\n",
    "    return (interval[-1] - interval[0])/2"
   ]
  },
  {
   "cell_type": "code",
   "execution_count": null,
   "metadata": {},
   "outputs": [],
   "source": [
    "utts_dfs['exchristian']['text_len'].mean()"
   ]
  },
  {
   "cell_type": "code",
   "execution_count": null,
   "metadata": {},
   "outputs": [],
   "source": [
    "for subreddit in subreddits:\n",
    "    print('11 Graphing', subreddit)\n",
    "    len_avg = utts_dfs[subreddit]['text_len'].mean()\n",
    "    df = common_speakers_utts[subreddit]\n",
    "    k_only = df[df['order'].abs() <= k]\n",
    "    g = k_only.groupby(['order']).agg({\"text_len\": [\"mean\", conf_interval]})\n",
    "    g.columns = g.columns.map(lambda x: '_'.join([str(i) for i in x]))\n",
    "    g = g.reset_index()\n",
    "    gp = g.plot('order', 'text_len_mean', yerr='text_len_conf_interval')\n",
    "    gp.axhline(len_avg, color='red', linestyle='--')\n",
    "    gp.axvline(0, color='grey', linestyle='-')\n",
    "    \n",
    "    for i in [5, 10, 20, k/2]:\n",
    "        g2 = g.groupby(np.arange(len(g))//i).mean()\n",
    "        g2p = g2.plot('order', 'text_len_mean', yerr='text_len_conf_interval')\n",
    "        g2p.axhline(len_avg, color='red', linestyle='--')\n",
    "        g2p.axvline(0, color='grey', linestyle='-')\n",
    "    "
   ]
  },
  {
   "cell_type": "code",
   "execution_count": null,
   "metadata": {},
   "outputs": [],
   "source": []
  }
 ],
 "metadata": {
  "kernelspec": {
   "display_name": "Python 3",
   "language": "python",
   "name": "python3"
  },
  "language_info": {
   "codemirror_mode": {
    "name": "ipython",
    "version": 3
   },
   "file_extension": ".py",
   "mimetype": "text/x-python",
   "name": "python",
   "nbconvert_exporter": "python",
   "pygments_lexer": "ipython3",
   "version": "3.7.6"
  }
 },
 "nbformat": 4,
 "nbformat_minor": 4
}
